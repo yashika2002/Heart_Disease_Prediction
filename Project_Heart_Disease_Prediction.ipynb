{
  "nbformat": 4,
  "nbformat_minor": 0,
  "metadata": {
    "colab": {
      "provenance": []
    },
    "kernelspec": {
      "name": "python3",
      "display_name": "Python 3"
    },
    "language_info": {
      "name": "python"
    }
  },
  "cells": [
    {
      "cell_type": "code",
      "source": [
        "import pandas as pd\n",
        "import numpy as np\n",
        "import seaborn as sns\n",
        "import matplotlib.pyplot as plt\n",
        "from sklearn.model_selection import train_test_split,cross_val_score\n",
        "from sklearn.linear_model import LogisticRegression as lr\n",
        "from sklearn.tree import DecisionTreeClassifier as dt\n",
        "from sklearn.ensemble import RandomForestClassifier as rf\n",
        "from sklearn.metrics import accuracy_score, classification_report, confusion_matrix\n",
        "from sklearn.preprocessing import StandardScaler\n",
        "from sklearn.naive_bayes import GaussianNB as gb\n",
        "from sklearn.neighbors import KNeighborsClassifier as knn\n",
        "from xgboost import XGBClassifier as xgb\n",
        "import warnings\n",
        "warnings.filterwarnings('ignore')"
      ],
      "metadata": {
        "id": "ih6TLyKFGVA0"
      },
      "execution_count": 116,
      "outputs": []
    },
    {
      "cell_type": "code",
      "source": [
        "heart=pd.read_csv(\"/content/heart.csv\")\n",
        "heart.head()"
      ],
      "metadata": {
        "id": "sfPv0mpGG54t"
      },
      "execution_count": null,
      "outputs": []
    },
    {
      "cell_type": "code",
      "source": [
        "print(heart.shape)\n",
        "x=heart.drop(columns=['target'])\n",
        "y=heart['target']\n",
        "print(x.shape)\n",
        "print(y.shape)"
      ],
      "metadata": {
        "id": "n4kCTBUdDfu2"
      },
      "execution_count": null,
      "outputs": []
    },
    {
      "cell_type": "code",
      "source": [
        "# check for the missing values if any\n",
        "a=heart.isnull().sum()\n",
        "print(a)"
      ],
      "metadata": {
        "id": "wITPUQGTolfT"
      },
      "execution_count": null,
      "outputs": []
    },
    {
      "cell_type": "markdown",
      "source": [
        "## **Data Visualization**"
      ],
      "metadata": {
        "id": "3dC3zHtn1Alj"
      }
    },
    {
      "cell_type": "code",
      "source": [
        "# features\n",
        "features=x\n",
        "plt.figure(figsize=(10,5))\n",
        "sns.barplot(x)\n",
        "plt.show()"
      ],
      "metadata": {
        "id": "oLV9vTxhGzlD"
      },
      "execution_count": null,
      "outputs": []
    },
    {
      "cell_type": "code",
      "source": [
        "# label\n",
        "plt.figure(figsize=(3,4))\n",
        "plt.xticks([0,1])\n",
        "plt.yticks(range(0,600,100))\n",
        "sns.histplot(x=heart['target'],color='green')\n",
        "plt.show()"
      ],
      "metadata": {
        "collapsed": true,
        "id": "2HWxrib_vV9v"
      },
      "execution_count": null,
      "outputs": []
    },
    {
      "cell_type": "code",
      "source": [
        "fig,axs=plt.subplots(4,3,figsize=(15,10))\n",
        "feat=heart.columns\n",
        "for i,ax in enumerate(axs.flatten()):\n",
        "  ax.set_title(heart.columns[i])\n",
        "  ax.hist(x=heart[feat[i]],color='red')\n",
        "  ax.set_xlabel(heart.columns[i])\n",
        "  ax.set_ylabel('frequency')\n",
        "\n",
        "plt.tight_layout()\n",
        "\n",
        "plt.show()"
      ],
      "metadata": {
        "id": "nMWSbg011ckR",
        "collapsed": true
      },
      "execution_count": null,
      "outputs": []
    },
    {
      "cell_type": "code",
      "source": [
        "bin=[20,30,40,50,60,70,80]\n",
        "lab=['20-30','30-40','40-50','50-60','60-70','70-80']\n",
        "heart['age_bin']=pd.cut(heart['age'],include_lowest=True,bins=bin,labels=lab)\n",
        "plt.figure(figsize=(10,5))\n",
        "sns.countplot(x=heart['age_bin'],palette='Set1',width=0.4)\n",
        "plt.show()\n"
      ],
      "metadata": {
        "id": "uSamyk8wJqm0",
        "collapsed": true
      },
      "execution_count": null,
      "outputs": []
    },
    {
      "cell_type": "code",
      "source": [
        "plt.figure(figsize=(4,4))\n",
        "color=['blue','pink']\n",
        "label=['male','female']\n",
        "sns.countplot(x=heart['sex'],palette=color,width=0.4)\n",
        "plt.legend(title='SEX',labels=label)\n",
        "plt.show()"
      ],
      "metadata": {
        "id": "pLu-MqRvUzwa",
        "collapsed": true
      },
      "execution_count": null,
      "outputs": []
    },
    {
      "cell_type": "code",
      "source": [
        "plt.figure(figsize=(4,4))\n",
        "color=['blue','pink','green','red']\n",
        "sns.countplot(x=heart['cp'],palette=color,width=0.4)\n",
        "plt.show()"
      ],
      "metadata": {
        "id": "SUlXxYpNkVLz",
        "collapsed": true
      },
      "execution_count": null,
      "outputs": []
    },
    {
      "cell_type": "code",
      "source": [
        "bins=[90,100,110,120,130,140,150,160,170,180,190,200]\n",
        "labs=['90-100','100-110','110-120','120-130','130-140','140-150','150-160','160-170','170-180','180-190','190-200']\n",
        "heart['trestbps_level']=pd.cut(heart['trestbps'],include_lowest=True,bins=bins,labels=labs)\n",
        "plt.figure(figsize=(10,6))\n",
        "sns.countplot(x=heart['trestbps_level'],palette='Set1',width=0.4)\n",
        "plt.show()"
      ],
      "metadata": {
        "collapsed": true,
        "id": "daB9PHYBdJ6p"
      },
      "execution_count": null,
      "outputs": []
    },
    {
      "cell_type": "code",
      "source": [
        "bins = [0, 150, 200, 250, 300, 350, 400, 450, 500]\n",
        "labels = ['0-150', '151-200', '201-250', '251-300', '301-350', '351-400', '401-450', '451-500']\n",
        "heart['chol_level'] = pd.cut(heart['chol'], bins=bins, labels=labels, include_lowest=True)\n",
        "plt.figure(figsize=(10,6))\n",
        "sns.countplot(x=heart['chol_level'],palette='pastel',width=0.4)\n",
        "plt.show()\n"
      ],
      "metadata": {
        "collapsed": true,
        "id": "N2OpTOLhd4F9"
      },
      "execution_count": null,
      "outputs": []
    },
    {
      "cell_type": "code",
      "source": [
        "plt.figure(figsize=(6,6))\n",
        "color=['yellow','orange']\n",
        "sns.countplot(x=heart['fbs'],palette=color,width=0.4)\n",
        "plt.show()\n"
      ],
      "metadata": {
        "collapsed": true,
        "id": "8mK04xF5i4qV"
      },
      "execution_count": null,
      "outputs": []
    },
    {
      "cell_type": "code",
      "source": [
        "plt.figure(figsize=(6,6))\n",
        "color=['purple','green','maroon']\n",
        "sns.countplot(x=heart['restecg'],palette=color,width=0.4)\n",
        "plt.show()\n"
      ],
      "metadata": {
        "collapsed": true,
        "id": "tGaa7THIkJkN"
      },
      "execution_count": null,
      "outputs": []
    },
    {
      "cell_type": "code",
      "source": [
        "bins=[70,80,90,100,110,120,130,140,150,160,170,180,190,200,210]\n",
        "labs=['70-80','80-90','90-100','100-110','110-120','120-130','130-140','140-150','150-160','160-170','170-180','180-190','190-200','200-210']\n",
        "heart['thalach_level']=pd.cut(heart['thalach'],include_lowest=True,bins=bins,labels=labs)\n",
        "plt.figure(figsize=(14,6))\n",
        "sns.countplot(x=heart['thalach_level'],palette='viridis',width=0.4)\n",
        "plt.show()\n"
      ],
      "metadata": {
        "collapsed": true,
        "id": "4wVMw534lLYY"
      },
      "execution_count": null,
      "outputs": []
    },
    {
      "cell_type": "code",
      "source": [
        "plt.figure(figsize=(4,4))\n",
        "color=['red','green']\n",
        "sns.countplot(x=heart['exang'],palette=color,width=0.4)\n",
        "plt.show()\n"
      ],
      "metadata": {
        "collapsed": true,
        "id": "KeY8TbQYnlFZ"
      },
      "execution_count": null,
      "outputs": []
    },
    {
      "cell_type": "code",
      "source": [
        "plt.figure(figsize=(15,6))\n",
        "sns.countplot(x=heart['oldpeak'],palette='pastel',width=0.4)\n",
        "plt.show()\n"
      ],
      "metadata": {
        "collapsed": true,
        "id": "nQDrTAKnn5ze"
      },
      "execution_count": null,
      "outputs": []
    },
    {
      "cell_type": "code",
      "source": [
        "plt.figure(figsize=(4,4))\n",
        "sns.countplot(x=heart['slope'],palette='Set1',width=0.4)\n",
        "plt.show()\n"
      ],
      "metadata": {
        "id": "aE7yyHSfoS_W"
      },
      "execution_count": null,
      "outputs": []
    },
    {
      "cell_type": "code",
      "source": [
        "plt.figure(figsize=(4,4))\n",
        "sns.countplot(x=heart['ca'],palette='Set1',width=0.4)\n",
        "plt.show()"
      ],
      "metadata": {
        "collapsed": true,
        "id": "xq4xanYcon6j"
      },
      "execution_count": null,
      "outputs": []
    },
    {
      "cell_type": "code",
      "source": [
        "plt.figure(figsize=(4,4))\n",
        "sns.countplot(x=heart['thal'],palette='Set1',width=0.4)\n",
        "plt.show()"
      ],
      "metadata": {
        "collapsed": true,
        "id": "pOfBS1usoxCP"
      },
      "execution_count": null,
      "outputs": []
    },
    {
      "cell_type": "markdown",
      "source": [
        "***Splitting the dataset***"
      ],
      "metadata": {
        "id": "TTVtRyu0pKwZ"
      }
    },
    {
      "cell_type": "code",
      "source": [
        "x_train, x_test,y_train, y_test=train_test_split(x,y,test_size=0.4,random_state=42)\n",
        "print(x_train.shape)\n",
        "print(x_test.shape)\n",
        "print(y_train.shape)\n",
        "print(y_test.shape)"
      ],
      "metadata": {
        "id": "u7S1Gjl4HDzA"
      },
      "execution_count": null,
      "outputs": []
    },
    {
      "cell_type": "markdown",
      "source": [
        "***Perform Feature Scaling***"
      ],
      "metadata": {
        "id": "Nh-R6_NDuNEn"
      }
    },
    {
      "cell_type": "code",
      "source": [
        "scaler=StandardScaler()\n",
        "x_train_scaled=scaler.fit_transform(x_train)\n",
        "x_test_scaled=scaler.transform(x_test)"
      ],
      "metadata": {
        "id": "eiltFitSq54j"
      },
      "execution_count": 5,
      "outputs": []
    },
    {
      "cell_type": "markdown",
      "source": [
        "LOGISTIC REGRESSION"
      ],
      "metadata": {
        "id": "_k-a6JDsv0aJ"
      }
    },
    {
      "cell_type": "code",
      "source": [
        "model1=lr(random_state=42,C=0.01)\n",
        "model1.fit(x_train_scaled,y_train)\n",
        "y_pred1=model1.predict(x_test_scaled)\n",
        "print('Accuracy on test set:',accuracy_score(y_test,y_pred1)*100)\n",
        "y_pred_train1=model1.predict(x_train_scaled)\n",
        "print('Accuracy on training set:',accuracy_score(y_train,y_pred_train1)*100)\n",
        "cm=confusion_matrix(y_test,y_pred1)\n",
        "print('Confusion Matrix:\\n',cm)\n",
        "clr=classification_report(y_test,y_pred1)\n",
        "print('Classification Report:\\n',clr)"
      ],
      "metadata": {
        "id": "_VO1HVfmMywL",
        "collapsed": true
      },
      "execution_count": null,
      "outputs": []
    },
    {
      "cell_type": "code",
      "source": [
        "model1=cross_val_score(model1,x_train_scaled,y_train,cv=5)\n",
        "print(\"Cross-Validation Scores:\",model1*100)\n",
        "print(\"Mean CV Accuracy:\",model1.mean()*100)"
      ],
      "metadata": {
        "id": "m6tqZT57nB0g"
      },
      "execution_count": null,
      "outputs": []
    },
    {
      "cell_type": "markdown",
      "source": [
        "RANDOM FOREST"
      ],
      "metadata": {
        "id": "xi0rLL_QriWq"
      }
    },
    {
      "cell_type": "code",
      "source": [
        "model2=rf(random_state=42,max_depth=7,n_estimators=300)\n",
        "model2.fit(x_train_scaled,y_train)\n",
        "y_pred2=model2.predict(x_test_scaled)\n",
        "print(f'Accuracy on test set:',accuracy_score(y_test,y_pred2)*100)\n",
        "y_pred_train2=model2.predict(x_train_scaled)\n",
        "print(f'Accuracy on training set: ',accuracy_score(y_train,y_pred_train2)*100)\n",
        "cm2=confusion_matrix(y_test,y_pred2)\n",
        "print('Confusion Matrix:\\n',cm2)\n",
        "clr2=classification_report(y_test,y_pred2)\n",
        "print('Classification Report:\\n',clr2)\n"
      ],
      "metadata": {
        "id": "8CyPf6SBwyok"
      },
      "execution_count": null,
      "outputs": []
    },
    {
      "cell_type": "code",
      "source": [
        "cv_scores=cross_val_score(model2,x_train_scaled,y_train,cv=5)\n",
        "print(\"Cross-Validation Scores:\",cv_scores*100)\n",
        "print(\"Mean CV Accuracy:\",cv_scores.mean()*100)"
      ],
      "metadata": {
        "id": "mNZRhJZF27lW"
      },
      "execution_count": null,
      "outputs": []
    },
    {
      "cell_type": "markdown",
      "source": [
        "DECISION TREE"
      ],
      "metadata": {
        "id": "Xj7pbYvWrla7"
      }
    },
    {
      "cell_type": "code",
      "source": [
        "model3=dt(random_state=42,max_depth=7)\n",
        "model3.fit(x_train_scaled,y_train)\n",
        "y_pred3=model3.predict(x_test_scaled)\n",
        "print('Accuracy on test set:',accuracy_score(y_test,y_pred3)*100)\n",
        "y_pred_train3=model3.predict(x_train_scaled)\n",
        "print('Accuracy on training set:',accuracy_score(y_train,y_pred_train3)*100)\n",
        "cm3=confusion_matrix(y_test,y_pred3)\n",
        "print('Confusion Matrix:\\n',cm3)\n",
        "clr3=classification_report(y_test,y_pred3)\n",
        "print('Classification Report:\\n',clr3)"
      ],
      "metadata": {
        "id": "FsaxQ_4rZMAE"
      },
      "execution_count": null,
      "outputs": []
    },
    {
      "cell_type": "code",
      "source": [
        "cv_scores=cross_val_score(model3,x_train_scaled,y_train,cv=5)\n",
        "print(\"Cross-Validation Scores:\",cv_scores*100)\n",
        "print(\"Mean CV Accuracy:\",cv_scores.mean()*100)"
      ],
      "metadata": {
        "id": "lRnHUvUverxo"
      },
      "execution_count": null,
      "outputs": []
    },
    {
      "cell_type": "markdown",
      "source": [
        "NAIVE BAYES"
      ],
      "metadata": {
        "id": "jsnNphJtTQmp"
      }
    },
    {
      "cell_type": "code",
      "source": [
        "model4=gb()\n",
        "model4.fit(x_train_scaled,y_train)\n",
        "y_pred4=model4.predict(x_test_scaled)\n",
        "print('Accuracy on test set:',accuracy_score(y_test,y_pred4)*100)\n",
        "y_pred_train4=model4.predict(x_train_scaled)\n",
        "print('Accuracy on training set:',accuracy_score(y_train,y_pred_train4)*100)\n",
        "cm4=confusion_matrix(y_test,y_pred4)\n",
        "print('Confusion Matrix:\\n',cm4)\n",
        "clr4=classification_report(y_test,y_pred4)\n",
        "print('Classification Report:\\n',clr4)"
      ],
      "metadata": {
        "id": "HcVkZkVwsRdd"
      },
      "execution_count": null,
      "outputs": []
    },
    {
      "cell_type": "code",
      "source": [
        "cv_scores=cross_val_score(model4,x_train_scaled,y_train,cv=5)\n",
        "print(\"Cross-Validation Scores:\",cv_scores*100)\n",
        "print(\"Mean CV Accuracy:\",cv_scores.mean()*100)"
      ],
      "metadata": {
        "id": "pvxv7idot3EB"
      },
      "execution_count": null,
      "outputs": []
    },
    {
      "cell_type": "markdown",
      "source": [
        "K-NEAREST NEIGHBORS"
      ],
      "metadata": {
        "id": "WrMdMZRtTT0C"
      }
    },
    {
      "cell_type": "code",
      "source": [
        "model5=knn(n_neighbors=7)\n",
        "model5.fit(x_train_scaled,y_train)\n",
        "y_pred5=model5.predict(x_test_scaled)\n",
        "print('Accuracy on test set:',accuracy_score(y_test,y_pred5)*100)\n",
        "y_pred_train5=model5.predict(x_train_scaled)\n",
        "print('Accuracy on training set:',accuracy_score(y_train,y_pred_train5)*100)\n",
        "cv_scores=cross_val_score(model5,x_train_scaled,y_train,cv=5)\n",
        "cm5=confusion_matrix(y_test,y_pred5)\n",
        "print('Confusion Matrix:\\n',cm5)\n",
        "clr5=classification_report(y_test,y_pred5)\n",
        "print('Classification Report:\\n',clr5)"
      ],
      "metadata": {
        "id": "gcYawLhhu4re"
      },
      "execution_count": null,
      "outputs": []
    },
    {
      "cell_type": "code",
      "source": [
        "cv_scores=cross_val_score(model5,x_train_scaled,y_train,cv=5)\n",
        "print(\"Cross-Validation Scores:\",cv_scores*100)\n",
        "print(\"Mean CV Accuracy:\",cv_scores.mean()*100)"
      ],
      "metadata": {
        "id": "NaD_myC9lMYl"
      },
      "execution_count": null,
      "outputs": []
    },
    {
      "cell_type": "markdown",
      "source": [
        "XGBOOST"
      ],
      "metadata": {
        "id": "2lQop0cLTY4P"
      }
    },
    {
      "cell_type": "code",
      "source": [
        "model6=xgb(C=0.1, max_depth=2,n_estimators=150)\n",
        "model6.fit(x_train_scaled, y_train)\n",
        "y_pred6 = model6.predict(x_test_scaled)\n",
        "print('Accuracy on test set:', accuracy_score(y_test, y_pred6) * 100)\n",
        "y_pred_train6 = model6.predict(x_train_scaled)\n",
        "print('Accuracy on training set:', accuracy_score(y_train, y_pred_train6) * 100)\n",
        "cm6=confusion_matrix(y_test,y_pred6)\n",
        "print('Confusion Matrix:\\n',cm6)\n",
        "clr6=classification_report(y_test,y_pred6)\n",
        "print('Classification Report:\\n',clr6)"
      ],
      "metadata": {
        "id": "UBzga8ozA8af"
      },
      "execution_count": null,
      "outputs": []
    },
    {
      "cell_type": "code",
      "source": [
        "cv_scores=cross_val_score(model6,x_train_scaled,y_train,cv=5)\n",
        "print(\"Cross-Validation Scores:\",cv_scores*100)\n",
        "print(\"Mean CV Accuracy:\",cv_scores.mean()*100)"
      ],
      "metadata": {
        "id": "OlA4HbQ0GHsz"
      },
      "execution_count": null,
      "outputs": []
    }
  ]
}